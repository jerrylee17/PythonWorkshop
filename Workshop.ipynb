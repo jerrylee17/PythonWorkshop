{
 "cells": [
  {
   "cell_type": "markdown",
   "metadata": {},
   "source": [
    "# Welcome to the Python workshop!\n",
    "Hello! Today we will explore some concepts in the programming language of Python. By the end of this workshop, you will be able to understand the different variable types, data structues and loops in Python. \n",
    "\n",
    "## Agenda:\n",
    "- Print statements\n",
    "- Variable and Data Types\n",
    "- Data Structures\n",
    "- if statements\n",
    "- Loops\n",
    "- Functions\n",
    "- Classes\n",
    "\n",
    "---"
   ]
  },
  {
   "cell_type": "markdown",
   "metadata": {},
   "source": [
    "## Print Statements\n",
    "To print to the screen in python this is simply done with the `print()` function. To see the code run, click the `>|` button. We can pass many different things into `print()`, more on that later."
   ]
  },
  {
   "cell_type": "code",
   "execution_count": 28,
   "metadata": {
    "scrolled": false
   },
   "outputs": [],
   "source": [
    "print(\"Hello World!\")"
   ]
  },
  {
   "cell_type": "markdown",
   "metadata": {},
   "source": [
    "**Now you print something!** Remember: No semicolons!\n",
    "\n",
    "**Note:** Line comments in Python are signified with the `#` character."
   ]
  },
  {
   "cell_type": "code",
   "execution_count": null,
   "metadata": {},
   "outputs": [],
   "source": [
    "#Print anything you want! No rules!\n"
   ]
  },
  {
   "cell_type": "markdown",
   "metadata": {},
   "source": [
    "`print()` automatically adds a *newline* to the string, and we dont have to worry about adding a newline character. Let's see this demonstration below."
   ]
  },
  {
   "cell_type": "code",
   "execution_count": 4,
   "metadata": {},
   "outputs": [],
   "source": [
    "print(\"My favorite programming language is\")\n",
    "print(\"Python\")"
   ]
  },
  {
   "cell_type": "markdown",
   "metadata": {},
   "source": [
    "#### `end` in print"
   ]
  },
  {
   "cell_type": "markdown",
   "metadata": {},
   "source": [
    "What if we wanted to print the sentence on the same line? Of course, we could do `print(\"My favorite programming language is Python\")`, but lets see some other ways."
   ]
  },
  {
   "cell_type": "code",
   "execution_count": 7,
   "metadata": {
    "scrolled": true
   },
   "outputs": [],
   "source": [
    "print(\"My favorite language is \", end='')\n",
    "print(\"Python\")"
   ]
  },
  {
   "cell_type": "markdown",
   "metadata": {},
   "source": [
    "Notice that adding `end` to our `print()` got rid of the default newline, this is because we specified that we didnt want to add anything to the end of our phrase.\n",
    "\n",
    "---"
   ]
  },
  {
   "cell_type": "markdown",
   "metadata": {},
   "source": [
    "## Variables and Data Types\n",
    "### Declaring a Variable\n",
    "Declaring a variable in python is extremely easy. All you must do is\n",
    "- `<variable_name> = <data>`\n",
    "Lets see it in action:"
   ]
  },
  {
   "cell_type": "code",
   "execution_count": 10,
   "metadata": {
    "scrolled": true
   },
   "outputs": [],
   "source": [
    "name = \"Evan\"\n",
    "major = \"Software Engineering\"\n",
    "print(name, major)"
   ]
  },
  {
   "cell_type": "markdown",
   "metadata": {},
   "source": [
    "Notice that we passed 2 variables into the `print()` function, separated by a comma.\n",
    "\n",
    "**Your turn!** Declare any number of variables, and print them out using `print()`."
   ]
  },
  {
   "cell_type": "code",
   "execution_count": 23,
   "metadata": {},
   "outputs": [],
   "source": [
    "#Declare some variables below and print them out!\n",
    "\n"
   ]
  },
  {
   "cell_type": "markdown",
   "metadata": {},
   "source": [
    "### Data Types\n",
    "Let's discuss common data types that are seen in Python. These are\n",
    "- `int` (whole numbers), \n",
    "- `string` (phrases), \n",
    "- `float` (decimals) \n",
    "- `boolean` (true/false)\n",
    "Let's see them below.\n",
    "\n",
    "**Note:** adding `f` into `print()` allows you to insert variable values into phrases. The `f` is placed before the quotation marks and variables that are inserted are wrapped by `{ }`."
   ]
  },
  {
   "cell_type": "code",
   "execution_count": 12,
   "metadata": {
    "scrolled": false
   },
   "outputs": [],
   "source": [
    "# declaring an integer variable\n",
    "my_int = 7\n",
    "print(f\"my_int = {my_int}\")\n",
    "\n",
    "#declaring a string value\n",
    "my_string = \"Python is fun\"\n",
    "print(f\"my_string = {my_string}\")\n",
    "\n",
    "#declaring a float variable\n",
    "my_float = 3.14\n",
    "print(f\"my_float = {my_float}\")\n",
    "\n",
    "#declaring a bool variable\n",
    "my_bool = True \n",
    "print(f\"my_bool = {my_bool}\")"
   ]
  },
  {
   "cell_type": "markdown",
   "metadata": {},
   "source": [
    "**Note**: Boolean values must be capitalized (e.g. True, False)\n",
    "\n",
    "**Try it out!** Declare a variable of any type!"
   ]
  },
  {
   "cell_type": "code",
   "execution_count": null,
   "metadata": {},
   "outputs": [],
   "source": [
    "#Declare a bunch of different variables here\n",
    "\n"
   ]
  },
  {
   "cell_type": "markdown",
   "metadata": {},
   "source": [
    "**Final Note:** When declaring a variable to a certain type, you can redefine it to hold a different data type. See below"
   ]
  },
  {
   "cell_type": "code",
   "execution_count": 16,
   "metadata": {
    "scrolled": true
   },
   "outputs": [],
   "source": [
    "#declare a variable to hold an int value\n",
    "my_var = 123\n",
    "\n",
    "print(f\"my_var is: {my_var}\\n\\n\")\n",
    "\n",
    "\n",
    "#change the variable's contents to hold a different data type\n",
    "my_var = \"Ha! I'm a string now!\"\n",
    "\n",
    "print(f\"my_var is now: {my_var}\")"
   ]
  },
  {
   "cell_type": "markdown",
   "metadata": {},
   "source": [
    "### Strings\n",
    "`len(string)` returns the length of a passed string. Strings are easy to modify in Python. Lets use **splicing** to get parts of a string.\n",
    "\n",
    "#### Splicing Syntax\n",
    "`[a:b]`\n",
    "- `a` is the index to start at, which is included in the splice\n",
    "- `b` is the index to end at, and is also included\n",
    "\n",
    "**Note**: \n",
    "- Not including `a` in the `[]` means the splice starts from the beginning.\n",
    "- Not `b` in the `[]` means the splice includes everything until the end."
   ]
  },
  {
   "cell_type": "code",
   "execution_count": 20,
   "metadata": {
    "scrolled": false
   },
   "outputs": [],
   "source": [
    "# declare a string\n",
    "my_str = \"Hello! The weather is nice!\"\n",
    "print(f\"original string is \\\"{my_str}\\\"\\n\")\n",
    "print(\"the length is: \", len(my_str))\n",
    "\n",
    "#get some substrings of my_str\n",
    "sub_str = my_str[:6]\n",
    "print(f\"substring from 0 to 6 is: \\n{sub_str}\\n\")\n",
    "\n",
    "sub_str = my_str[7:]\n",
    "print(f\"substring from 7 to the end is: \\n{sub_str}\\n\")\n",
    "\n",
    "sub_str = my_str[7:18]\n",
    "print(f\"substring from 7 to 18 is: \\n{sub_str}\\n\")\n",
    "\n"
   ]
  },
  {
   "cell_type": "markdown",
   "metadata": {},
   "source": [
    "**Try it out!** Take the string below, and print out the spliced result. Can you get Python to print `Hi!` and `I like Python!` with splicing?"
   ]
  },
  {
   "cell_type": "code",
   "execution_count": null,
   "metadata": {},
   "outputs": [],
   "source": [
    "my_str = \"Hi! I like Python!\"\n",
    "\n",
    "#splice and print the values here!\n",
    "\n",
    "\n"
   ]
  },
  {
   "cell_type": "markdown",
   "metadata": {},
   "source": [
    "## Data Structures\n",
    "Now, lets move onto the different data structures. Let's talk about them at a high level.\n",
    "\n",
    "---\n",
    "### Lists\n",
    "A list is a collection of items that can be of different types. You could think of a list as an array.\n",
    "Lets work with lists below"
   ]
  },
  {
   "cell_type": "code",
   "execution_count": 17,
   "metadata": {},
   "outputs": [],
   "source": [
    "#to declare a list\n",
    "some_list = []"
   ]
  },
  {
   "cell_type": "markdown",
   "metadata": {},
   "source": [
    "Easy! Just like variables, except we add the `[]` to specify it as an empty list. Let's add some things below with the `append()` function\n",
    "\n",
    "**Note:** `append()` adds entries to the *end* of the list, `len()` returns the number of entries in the list."
   ]
  },
  {
   "cell_type": "code",
   "execution_count": 44,
   "metadata": {},
   "outputs": [],
   "source": [
    "#Add 3 strings to our list\n",
    "my_list = []\n",
    "my_list.append(\"apple\")\n",
    "my_list.append(\"banana\")\n",
    "my_list.append(\"cherry\")\n",
    "print(my_list)\n",
    "print(\"length: \",len(my_list))"
   ]
  },
  {
   "cell_type": "markdown",
   "metadata": {},
   "source": [
    "`print()` was very nice to us and printed out the contents of the list in a preformatted way. Nice.\n",
    "\n",
    "**Your turn!** Declare a list, and add some data to it!"
   ]
  },
  {
   "cell_type": "code",
   "execution_count": null,
   "metadata": {},
   "outputs": [],
   "source": [
    "#Declare a list, and use the .append() function to add entries\n",
    "\n",
    "\n",
    "\n",
    "#print the list down here!\n"
   ]
  },
  {
   "cell_type": "markdown",
   "metadata": {},
   "source": [
    "#### Splicing a list\n",
    "Like the string syntax `:` we can splice a list"
   ]
  },
  {
   "cell_type": "code",
   "execution_count": 42,
   "metadata": {},
   "outputs": [],
   "source": [
    "#use splicing on the list\n",
    "\n",
    "print(\"\\n\\nlast 2 entries of the list:\")\n",
    "print(my_list[1:])"
   ]
  },
  {
   "cell_type": "markdown",
   "metadata": {},
   "source": [
    "#### Modifying List Entries\n",
    "Since lists are like arrays in other languages, we can modify values by index. Lets see below.\n",
    "\n",
    "**Note:** This code snippet references the previous declaration of `my_list`. Make sure to run that first before this one."
   ]
  },
  {
   "cell_type": "code",
   "execution_count": 3,
   "metadata": {},
   "outputs": [],
   "source": [
    "print(f\"old entry: {my_list[0]}\")\n",
    "\n",
    "#change \"apple\" in the first index of my_list\n",
    "my_list[0] = \"orange\"\n",
    "\n",
    "print(f\"the entry is now entry: {my_list[0]}\")"
   ]
  },
  {
   "cell_type": "markdown",
   "metadata": {},
   "source": [
    "**There's a better way though!** Lets use the `replace()` method. `repace()` takes 2 parameters, and index and a value."
   ]
  },
  {
   "cell_type": "code",
   "execution_count": null,
   "metadata": {},
   "outputs": [],
   "source": [
    "print(f\"list was: {my_list}\")\n",
    "\n",
    "#replace the entry at index 0\n",
    "my_list.replace(0, \"orange\")\n",
    "\n",
    "print(f\"list is now: {my_list}\")"
   ]
  },
  {
   "cell_type": "markdown",
   "metadata": {},
   "source": [
    "#### Inserting and removing an entry in a list\n",
    "Let's take a look at how we can easily insert an entry in the list.\n",
    "\n",
    "This can be done with the `insert()` list method. `insert()` takes 2 parameters, and index and a value, just like `replace()`. Let's insert a value of  of `my_list`."
   ]
  },
  {
   "cell_type": "code",
   "execution_count": null,
   "metadata": {},
   "outputs": [],
   "source": [
    "print(f\"list was: {my_list}\")\n",
    "\n",
    "#replace the entry at index 0\n",
    "my_list.insert(1, \"peach\")\n",
    "\n",
    "print(f\"after inserting peach, the list is now: {my_list}\")"
   ]
  },
  {
   "cell_type": "markdown",
   "metadata": {},
   "source": [
    "We can remove \"peach\" with the `remove()` method. `remove()` takes one parameter, and removes **all** occurrences in the list."
   ]
  },
  {
   "cell_type": "code",
   "execution_count": null,
   "metadata": {},
   "outputs": [],
   "source": [
    "print(f\"list was: {my_list}\")\n",
    "\n",
    "#replace the entry at index 0\n",
    "my_list.remove(\"peach\")\n",
    "\n",
    "print(f\"after removing peach, the list is now: {my_list}\")"
   ]
  },
  {
   "cell_type": "markdown",
   "metadata": {},
   "source": [
    "**Your turn!** With the given list, remove the entry \"mars\" and insert a different planet!"
   ]
  },
  {
   "cell_type": "code",
   "execution_count": null,
   "metadata": {},
   "outputs": [],
   "source": [
    "planets = [\"earth\", \"mars\", \"saturn\"]\n",
    "\n",
    "#your code here\n",
    "\n",
    "\n",
    "print(f\"the list is now {planets}\")"
   ]
  },
  {
   "cell_type": "markdown",
   "metadata": {},
   "source": [
    "---\n",
    "### Tuples\n",
    "Tuples are a sequence of immutable entries of variable data types. Tuples are just like lists, but **cannot** be changed once defined. Let's see how they work\n",
    "\n",
    "**Note:** Since tuples cannot be changed, you must define them with all entries present."
   ]
  },
  {
   "cell_type": "code",
   "execution_count": 25,
   "metadata": {
    "collapsed": true
   },
   "outputs": [],
   "source": [
    "#to define a tuple with fruits\n",
    "my_tup = (\"apple\", \"banana\", \"orange\")\n",
    "print(f\"the defined tuple is {my_tup}\")"
   ]
  },
  {
   "cell_type": "markdown",
   "metadata": {},
   "source": [
    "Notice how the syntax is similar to a list, but we use `()` instead of `[]` to specify the contents. \n",
    "\n",
    "**Your turn!** Try to change the first element of the tuple `my_tup[0]` to another value."
   ]
  },
  {
   "cell_type": "code",
   "execution_count": 26,
   "metadata": {
    "collapsed": true
   },
   "outputs": [],
   "source": [
    "print(f\"the first element in the tuple is {my_tup[0]}\")\n",
    "print(\"Let's try to change it!\")\n",
    "#your code here\n",
    "\n"
   ]
  },
  {
   "cell_type": "markdown",
   "metadata": {},
   "source": [
    "#### Concatenating tuples\n",
    "While we can't modify the contents of a tiple, we can merge.\n",
    "See below."
   ]
  },
  {
   "cell_type": "code",
   "execution_count": 28,
   "metadata": {},
   "outputs": [],
   "source": [
    "tup_1 = (\"airplane\", \"train\", \"car\")\n",
    "tup_2 = (111, 3.14, True)\n",
    "\n",
    "tup_3 = tup_1 + tup_2\n",
    "\n",
    "print(\"by adding two tuples together, we get:\")\n",
    "print(tup_3)"
   ]
  },
  {
   "cell_type": "markdown",
   "metadata": {},
   "source": [
    "Notice how `tup_1` comes before `tup_2` due to the order in the addition.\n",
    "\n",
    "**Your turn!** Define 3 tuples, `tup_a tup_b tup_c`. Have `tup_c` be the sum of both tuples and print the result"
   ]
  },
  {
   "cell_type": "code",
   "execution_count": null,
   "metadata": {},
   "outputs": [],
   "source": [
    "#First define tup_a and tup_b to have some values\n",
    "\n",
    "\n",
    "#define tup_c to hold the sum of the 2\n",
    "\n",
    "\n",
    "#print tup_c\n"
   ]
  },
  {
   "cell_type": "markdown",
   "metadata": {},
   "source": [
    "---\n",
    "### Dictionaries\n",
    "Dictionaries are Python's data structure that can be regarded as an *associative array*, or *hash map*. Dictionaries are a set of key value pairs, where each key is mapped to a value. Confused? Let's see below.\n",
    "\n",
    "**Note:** Dictionaries can map any data type to any data type\n"
   ]
  },
  {
   "cell_type": "code",
   "execution_count": 29,
   "metadata": {},
   "outputs": [],
   "source": [
    "my_dict = {}\n",
    "\n",
    "my_dict[\"sf\"] = \"49ers\"\n",
    "my_dict[100] = False\n",
    "\n",
    "print(f\"the entry sf in my_dict is\")\n",
    "print(my_dict[\"sf\"])\n",
    "\n",
    "print(f\"the entry 100 in my_dict is\")\n",
    "print(my_dict[100])\n"
   ]
  },
  {
   "cell_type": "markdown",
   "metadata": {},
   "source": [
    "Notice how the entries in the `[]` become mapped to other values? This can become especially helpful in coding interviews."
   ]
  },
  {
   "cell_type": "markdown",
   "metadata": {},
   "source": [
    "**Your turn!** Define a dictionary and map 2 values of things."
   ]
  },
  {
   "cell_type": "code",
   "execution_count": null,
   "metadata": {},
   "outputs": [],
   "source": [
    "# define a dictionary and map some values\n",
    "#print the results when finished\n",
    "\n"
   ]
  },
  {
   "cell_type": "markdown",
   "metadata": {},
   "source": [
    "## If statements\n",
    "We now have a general idea of how basic things are written in Python. What if we want to run code only on a certain condition? Simple! `if` statements! \n",
    "- `if` statements execute code based on a specified contition being true\n",
    "- the block of the if statement is indented, and starts after the `:` character on a new line.\n",
    "Lets see an example below"
   ]
  },
  {
   "cell_type": "code",
   "execution_count": 50,
   "metadata": {},
   "outputs": [],
   "source": [
    "if True:\n",
    "    print(\"Hello! I am true!\")\n",
    "if False:\n",
    "    print(\"I am false!\")\n",
    "    \n"
   ]
  },
  {
   "cell_type": "markdown",
   "metadata": {},
   "source": [
    "See how the if statement with a true condition ran? This is handy! Let's use the `not` keyword to switch conditions from true to false."
   ]
  },
  {
   "cell_type": "code",
   "execution_count": 51,
   "metadata": {},
   "outputs": [],
   "source": [
    "if not True:\n",
    "    print(\"nothing!\")\n",
    "if not False:\n",
    "    print(\"I was false, but with not I am true!\")"
   ]
  },
  {
   "cell_type": "markdown",
   "metadata": {},
   "source": [
    "### Else, and else if\n",
    "What if we want alternative code to run on the condition that the `if` statement was false? We can use `else`, or `elif` (else if)"
   ]
  },
  {
   "cell_type": "code",
   "execution_count": null,
   "metadata": {},
   "outputs": [],
   "source": [
    "num = 99\n",
    "\n",
    "if num > 100:\n",
    "    print(\"Big number!\")\n",
    "else:\n",
    "    print(\"Not too big!\")"
   ]
  },
  {
   "cell_type": "markdown",
   "metadata": {},
   "source": [
    "Lets see the same example using elif."
   ]
  },
  {
   "cell_type": "code",
   "execution_count": null,
   "metadata": {},
   "outputs": [],
   "source": [
    "my_str = \"money\"\n",
    "#first if is checked, if false, elif is checked\n",
    "#if that too is false, we default to \"else\" code\n",
    "if my_str == \"food\":\n",
    "    print(\"Yummy food!\")\n",
    "elif my_str == \"money\":\n",
    "    print(\"Cool! Money!\")\n",
    "else:\n",
    "    print(\"Not food or money!\")"
   ]
  },
  {
   "cell_type": "markdown",
   "metadata": {},
   "source": [
    "**Note:** `elif` statements must also have their own condition\n",
    "\n",
    "**Your turn!** Write something that checks a string's value using an `if` `elif` and `else` area of code."
   ]
  },
  {
   "cell_type": "code",
   "execution_count": null,
   "metadata": {},
   "outputs": [],
   "source": [
    "#using if, elif and else, print out something after checking a string's value\n",
    "\n",
    "\n",
    "\n"
   ]
  },
  {
   "cell_type": "markdown",
   "metadata": {},
   "source": [
    "---\n",
    "## Loops\n",
    "Loops in Python, well, loop our code.\n",
    "There are **only 2** loops in python, the *for* and *while* loop. Lets see them below.\n",
    "### For loop\n",
    "The for loop iterates over a given sequence or range. Let's loop a piece of code using a for loop and `range()`\n",
    "**Note:** Python does not use brackets for a loop body, as compared to other languages. Instead, it relies on indents, and the loop body is specified as the indented lines of code under the `:`"
   ]
  },
  {
   "cell_type": "code",
   "execution_count": null,
   "metadata": {},
   "outputs": [],
   "source": [
    "for i in range(5):\n",
    "    print(i)"
   ]
  },
  {
   "cell_type": "markdown",
   "metadata": {},
   "source": [
    "What's going on here? i is being assigned a value from 0 to 4, and the print statement is being called 5 times. `range()` assignes i a value from 0 to 4.\n",
    "Let's run through the loop backwards, and then from a specified range of our choosing."
   ]
  },
  {
   "cell_type": "code",
   "execution_count": 31,
   "metadata": {},
   "outputs": [],
   "source": [
    "print(\"reversed range:\")\n",
    "for i in reversed(range(5)):\n",
    "    print(i)\n",
    "    \n",
    "print(\"\\npart of range:\")\n",
    "for i in range(2,4):\n",
    "    print(i)"
   ]
  },
  {
   "cell_type": "markdown",
   "metadata": {},
   "source": [
    "`reversed()` reverses the range of the values, and passing in 2 parameters to range lets us only assign i to a subset of possible indexes.\n",
    "\n",
    "### Iterating over a list\n",
    "Let's define a list, and iterate over the values"
   ]
  },
  {
   "cell_type": "code",
   "execution_count": 46,
   "metadata": {},
   "outputs": [],
   "source": [
    "my_list = [\"flour\", \"sugar\", \"chocolate\", \"butter\", \"eggs\"]\n",
    "\n",
    "for entry in my_list:\n",
    "    print(entry)"
   ]
  },
  {
   "cell_type": "markdown",
   "metadata": {},
   "source": [
    "`entry` is assigned a value from `my_list` for each loop iteration. Notice, the similar output of `for <thing> in <list>`?\n",
    "\n",
    "**Your turn!** Make a list to iterate over using a `for` loop."
   ]
  },
  {
   "cell_type": "code",
   "execution_count": null,
   "metadata": {},
   "outputs": [],
   "source": [
    "#define a list and iterate over it, printing each value.\n"
   ]
  },
  {
   "cell_type": "markdown",
   "metadata": {},
   "source": [
    "### Iterating over a string"
   ]
  },
  {
   "cell_type": "markdown",
   "metadata": {},
   "source": [
    "To iterate over a string, we use the functions `len()` and `range` to go over each character"
   ]
  },
  {
   "cell_type": "code",
   "execution_count": 47,
   "metadata": {},
   "outputs": [],
   "source": [
    "my_str = \"Python Programming\"\n",
    "\n",
    "for i in range(len(my_str)):\n",
    "    print(my_str[i])"
   ]
  },
  {
   "cell_type": "markdown",
   "metadata": {},
   "source": [
    "**Note:** `len()` returns an `int`, which is the size of `my_str`. `i` is then assigned values that are in the range."
   ]
  },
  {
   "cell_type": "markdown",
   "metadata": {},
   "source": [
    "### While loop\n",
    "- While loops repeat as long as a specified condition is met. Let's see some examples."
   ]
  },
  {
   "cell_type": "code",
   "execution_count": 49,
   "metadata": {
    "scrolled": true
   },
   "outputs": [],
   "source": [
    "print(\"printing numbers in a range:\")\n",
    "i = 0;\n",
    "while i < 5:\n",
    "    print(i)\n",
    "    i += 1\n",
    "\n",
    "print(\"\\nprinting values in an array:\")\n",
    "my_list = [\"wheels\", \"on the\", \"bus\"]\n",
    "i = 0\n",
    "while i < len(my_list):\n",
    "    print(my_list[i])\n",
    "    i += 1\n"
   ]
  },
  {
   "cell_type": "markdown",
   "metadata": {},
   "source": [
    "#### Break Statements\n",
    "What if we need a while loop to terminate based on a condition? We can use `break` for this."
   ]
  },
  {
   "cell_type": "code",
   "execution_count": 53,
   "metadata": {},
   "outputs": [],
   "source": [
    "i = 0\n",
    "while i < 10:\n",
    "    print(i)\n",
    "    i += 1\n",
    "    if i > 4:\n",
    "        break"
   ]
  },
  {
   "cell_type": "markdown",
   "metadata": {},
   "source": [
    "**Note:** Be sure to incrememnt `i`, otherwise you'll get an infinite loop!\n",
    "\n",
    "**Your turn!** Write a `while` loop to `break` when the list gets the entry 256"
   ]
  },
  {
   "cell_type": "code",
   "execution_count": null,
   "metadata": {},
   "outputs": [],
   "source": [
    "#define a while loop to iterate over each entry, but break when you reach the value 237\n",
    "numbers = [\n",
    "    951, 402, 984, 651, 360, 69, 408, 319, 601, 485, 980, 507, 725, 547, 544,\n",
    "    615, 83, 165, 141, 501, 263, 617, 865, 575, 219, 390, 984, 592, 236, 105, 942, 941,\n",
    "    386, 462, 47, 418, 907, 344, 236, 375, 823, 566, 597, 978, 328, 615, 953, 345,\n",
    "    399, 162, 758, 219, 918, 237, 412, 566, 826, 248, 866, 950, 626, 949, 687, 217,\n",
    "    815, 67, 104, 58, 512, 24, 892, 894, 767, 553, 81, 379, 843, 831, 445, 742, 717,\n",
    "    958, 609, 842, 451, 688, 753, 854, 685, 93, 857, 440, 380, 126, 721, 328, 753, 470,\n",
    "    743, 527\n",
    "]"
   ]
  },
  {
   "cell_type": "markdown",
   "metadata": {},
   "source": [
    "## Functions"
   ]
  },
  {
   "cell_type": "markdown",
   "metadata": {},
   "source": [
    "Functions are blocks of reusable code that we can repeatedly call on in the future. This saves time, as we can write less code.\n",
    "Lets define a function called `say_hello` that takes no parameters."
   ]
  },
  {
   "cell_type": "code",
   "execution_count": 54,
   "metadata": {},
   "outputs": [],
   "source": [
    "def say_hello():\n",
    "    print(\"hello! You called me!\")"
   ]
  },
  {
   "cell_type": "markdown",
   "metadata": {},
   "source": [
    "- `def` lets Python know that we want to create a function.\n",
    "- the `()` after the function name specifies any parameters, which there are none for our case.\n",
    "**Remember to indent!**\n",
    "We can now call this function with"
   ]
  },
  {
   "cell_type": "code",
   "execution_count": 55,
   "metadata": {},
   "outputs": [],
   "source": [
    "say_hello()"
   ]
  },
  {
   "cell_type": "markdown",
   "metadata": {},
   "source": [
    "### Parameters\n",
    "- What if we want to send values to a function? Simple, lets redefine `say_hello`"
   ]
  },
  {
   "cell_type": "code",
   "execution_count": 56,
   "metadata": {},
   "outputs": [],
   "source": [
    "def say_hello(param):\n",
    "    print(f\"Hello {param}! You called me!\")"
   ]
  },
  {
   "cell_type": "markdown",
   "metadata": {},
   "source": [
    "**Your turn!** Try calling the function with `say_hello(\"name\")`, or with any other parameter!\n",
    "**Note:** In python, parameters can be of any type"
   ]
  },
  {
   "cell_type": "code",
   "execution_count": null,
   "metadata": {},
   "outputs": [],
   "source": [
    "#call say_hello here\n",
    "\n"
   ]
  },
  {
   "cell_type": "markdown",
   "metadata": {},
   "source": [
    "### Multiple parameters\n",
    "Lets redefine say_hello to take two parameters, `x` and `y` and return a string with"
   ]
  },
  {
   "cell_type": "code",
   "execution_count": null,
   "metadata": {},
   "outputs": [],
   "source": [
    "def say_hello(param):\n",
    "    print(f\"Hello! You sent {x} and {y}!\")"
   ]
  },
  {
   "cell_type": "markdown",
   "metadata": {},
   "source": [
    "**Your turn!** Call `say_hello` with 2 parameters"
   ]
  },
  {
   "cell_type": "code",
   "execution_count": null,
   "metadata": {},
   "outputs": [],
   "source": [
    "#call say_hello with 2 parameters\n",
    "\n"
   ]
  },
  {
   "cell_type": "markdown",
   "metadata": {},
   "source": [
    "### Return values\n",
    "Let's say we want our function to return something! We can return a value of any type. Lets change `say_hello` to `return` a string"
   ]
  },
  {
   "cell_type": "code",
   "execution_count": 57,
   "metadata": {},
   "outputs": [],
   "source": [
    "def say_hello(param):\n",
    "    return (f\"Hello {param}! You called me!\")"
   ]
  },
  {
   "cell_type": "markdown",
   "metadata": {},
   "source": [
    "**Your turn!** Declare a variable to hold the function call `say_hello()`, then print the variable."
   ]
  },
  {
   "cell_type": "code",
   "execution_count": null,
   "metadata": {},
   "outputs": [],
   "source": [
    "#declare a variable that holds the return value, then print."
   ]
  },
  {
   "cell_type": "markdown",
   "metadata": {},
   "source": [
    "**Challenge time!** Write a function `sum` that takes two parameters and returns the sum of the two parameters."
   ]
  },
  {
   "cell_type": "code",
   "execution_count": null,
   "metadata": {},
   "outputs": [],
   "source": [
    "#It's your time to shine! \n",
    "# start with \"def sum\" ...\n",
    "# dont forget to indent and to return a value!\n",
    "\n"
   ]
  },
  {
   "cell_type": "markdown",
   "metadata": {},
   "source": [
    "## Classes\n",
    "Here is where we can define our own types of data structures.\n",
    "\n",
    "To define a class, we simply use the keyword `class` followed by a name for the class. We should include a constructor called `__init__` which builds our object for us.\n",
    "\n",
    "**Note:** All functions in a class must take one argument, which is `self`, so that an object can reference itself in its functions."
   ]
  },
  {
   "cell_type": "code",
   "execution_count": 62,
   "metadata": {},
   "outputs": [],
   "source": [
    "class Car:\n",
    "    def __init__(self):\n",
    "        print(\"hello, i am a car\")"
   ]
  },
  {
   "cell_type": "markdown",
   "metadata": {},
   "source": [
    "Cool, so how can we initialize a variable to a Car? Simple!"
   ]
  },
  {
   "cell_type": "code",
   "execution_count": 63,
   "metadata": {},
   "outputs": [],
   "source": [
    "car_1 = Car()"
   ]
  },
  {
   "cell_type": "markdown",
   "metadata": {},
   "source": [
    "Notice: We didn't call `__init__`, but it was done automatically for us, as that is the objects constructor. Let's add some parameters to `__init__` and some member functions."
   ]
  },
  {
   "cell_type": "code",
   "execution_count": 64,
   "metadata": {},
   "outputs": [],
   "source": [
    "class Car:\n",
    "    def __init__(self, name, color):\n",
    "        self.name = name\n",
    "        self.color = color\n",
    "        \n",
    "    def say_hello(self):\n",
    "        print(f\"Hello! I am {self.name} and I am the color {self.color}!\")\n",
    "        "
   ]
  },
  {
   "cell_type": "markdown",
   "metadata": {},
   "source": [
    "Notice how we used `self.` before the variable name? This is so the object can keep track of it's own variables. Let's see the class in action now."
   ]
  },
  {
   "cell_type": "code",
   "execution_count": 65,
   "metadata": {},
   "outputs": [],
   "source": [
    "my_car = Car(\"jeff\", \"red\")\n",
    "print(my_car.name)\n",
    "print(my_car.color)"
   ]
  },
  {
   "cell_type": "markdown",
   "metadata": {},
   "source": [
    "**Challenge time!** initialize your own Car object, and then call `say_hello()` \n",
    "- Hint: if `name` and `color` are part of a car object and can be called with `my_car.name` and `my_car.color` respectively, how can you call `say_hello()`?"
   ]
  },
  {
   "cell_type": "code",
   "execution_count": null,
   "metadata": {},
   "outputs": [],
   "source": [
    "#You got this!\n",
    "\n",
    "\n"
   ]
  },
  {
   "cell_type": "markdown",
   "execution_count": null,
   "metadata": {},
   "outputs": [],
   "source": [
    "## Try-Except blocks"
   ]
  },
  {
   "cell_type": "markdown",
   "execution_count": null,
   "metadata": {},
   "outputs": [],
   "source": [
    "Try-except blocks allow you to test your code for potential errors. The *try* block tests a block of code for errors. If there is an error, the block is terminated and redirected to the *except* block. Typically, the block should only enclose parts of code that would potentially generate error."
   ]
  },
  {
   "cell_type": "markdown",
   "execution_count": null,
   "metadata": {},
   "outputs": [],
   "source": [
    "**Example**: The code below should not work"
   ]
  },
  {
   "cell_type": "code",
   "execution_count": null,
   "metadata": {},
   "outputs": [],
   "source": [
    "print(1/0)"
   ]
  },
  {
   "cell_type": "markdown",
   "execution_count": null,
   "metadata": {},
   "outputs": [],
   "source": [
    "To indicate that the code does not work, we will use the *try except* block"
   ]
  },
  {
   "cell_type": "code",
   "execution_count": null,
   "metadata": {},
   "outputs": [],
   "source": [
    "try:\n",
    "    print(1/0)\n",
    "except:\n",
    "    print(\"Operation Failed\")"
   ]
  },
  {
   "cell_type": "markdown",
   "execution_count": null,
   "metadata": {},
   "outputs": [],
   "source": [
    "There can be different catch blocks for different errors"
   ]
  },
  {
   "cell_type": "code",
   "execution_count": null,
   "metadata": {},
   "outputs": [],
   "source": [
    "try:\n",
    "    print(1/0)\n",
    "except ZeroDivisionError:\n",
    "    print(\"Cannot divide by zero\")\n",
    "except:\n",
    "    print(\"Something else went wrong\")"
   ]
  },
  {
   "cell_type": "markdown",
   "execution_count": null,
   "metadata": {},
   "outputs": [],
   "source": [
    "**Challenge time!** Use a **Try Except** block to print out the number 7"
   ]
  },
  {
   "cell_type": "code",
   "execution_count": null,
   "metadata": {},
   "outputs": [],
   "source": [
    "arr = [0,1,2,3,4,5]\n",
    "c = arr[7]\n",
    "print(c)"
   ]
  },
  {
   "cell_type": "markdown",
   "metadata": {},
   "source": [
    "# Thank You!\n",
    "If you have any questions, please let me know!"
   ]
  }
 ],
 "metadata": {
  "kernelspec": {
   "display_name": "Python 3",
   "language": "python",
   "name": "python3"
  },
  "language_info": {
   "codemirror_mode": {
    "name": "ipython",
    "version": 3
   },
   "file_extension": ".py",
   "mimetype": "text/x-python",
   "name": "python",
   "nbconvert_exporter": "python",
   "pygments_lexer": "ipython3",
   "version": "3.6.7"
  }
 },
 "nbformat": 4,
 "nbformat_minor": 2
}
